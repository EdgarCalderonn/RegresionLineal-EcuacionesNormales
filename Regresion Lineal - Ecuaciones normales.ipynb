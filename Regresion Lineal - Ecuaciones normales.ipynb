{
 "cells": [
  {
   "cell_type": "code",
   "execution_count": 1,
   "metadata": {},
   "outputs": [],
   "source": [
    "import numpy as np"
   ]
  },
  {
   "cell_type": "code",
   "execution_count": 2,
   "metadata": {},
   "outputs": [],
   "source": [
    "# Se cargan los datos del dataset\n",
    "dataSet = np.loadtxt(\"fish_length.txt\",delimiter='  ')\n",
    "\n",
    "\n",
    "# En este desarrollo usaré 31 para entrenamiento, y 13 para probar\n",
    "\n",
    "# Se crea la matriz x con los datos\n",
    "x  = np.array(dataSet[0:31,[0,1]])\n",
    "\n",
    "# Se crea nuestra matriz de soluciones\n",
    "y  = np.array(dataSet[0:31,2])"
   ]
  },
  {
   "cell_type": "code",
   "execution_count": 3,
   "metadata": {},
   "outputs": [],
   "source": [
    "# Primero se saca la inversa de el producto punto de x transpuesta y x\n",
    "matriz1 = (np.linalg.inv(np.dot(x.transpose(),x)))\n",
    "\n",
    "\n",
    "# Producto punto de la inversa con x transpuesta\n",
    "matriz1 = np.dot(matriz1,x.transpose())\n",
    "\n",
    "\n",
    "# Producto punto de lo resultante con y\n",
    "matriz1 = np.dot(matriz1,y)\n",
    "\n",
    "# Se asigna el valor en el vector teta\n",
    "tetha = matriz1"
   ]
  },
  {
   "cell_type": "code",
   "execution_count": 4,
   "metadata": {},
   "outputs": [],
   "source": [
    "# Ahora usare el 40% de los datos\n",
    "pruebax = np.array(dataSet[31:44,[0,1]])\n",
    "pruebay =  np.array(dataSet[31:44,[2]])\n",
    "\n",
    "cantidad = len(pruebax)\n",
    "\n",
    "#Inicializo el vector con el numero de filas de prueba\n",
    "predicciones = [0]*(cantidad)"
   ]
  },
  {
   "cell_type": "code",
   "execution_count": 5,
   "metadata": {
    "scrolled": true
   },
   "outputs": [
    {
     "name": "stdout",
     "output_type": "stream",
     "text": [
      "**PRUEBA 1**\n",
      "Dato real: [4565.] \n",
      "Prediccion: 5128.329753331473\n",
      "Diferencia: [-563.32975333]\n",
      "\n",
      "\n",
      "**PRUEBA 2**\n",
      "Dato real: [4566.] \n",
      "Prediccion: 5554.294847109373\n",
      "Diferencia: [-988.29484711]\n",
      "\n",
      "\n",
      "**PRUEBA 3**\n",
      "Dato real: [590.] \n",
      "Prediccion: 1387.077221504211\n",
      "Diferencia: [-797.0772215]\n",
      "\n",
      "\n",
      "**PRUEBA 4**\n",
      "Dato real: [1205.] \n",
      "Prediccion: 1813.0423152821122\n",
      "Diferencia: [-608.04231528]\n",
      "\n",
      "\n",
      "**PRUEBA 5**\n",
      "Dato real: [1915.] \n",
      "Prediccion: 2208.5813309330206\n",
      "Diferencia: [-293.58133093]\n",
      "\n",
      "\n",
      "**PRUEBA 6**\n",
      "Dato real: [2140.] \n",
      "Prediccion: 2634.546424710922\n",
      "Diferencia: [-494.54642471]\n",
      "\n",
      "\n",
      "**PRUEBA 7**\n",
      "Dato real: [2710.] \n",
      "Prediccion: 3060.5115184888236\n",
      "Diferencia: [-350.51151849]\n",
      "\n",
      "\n",
      "**PRUEBA 8**\n",
      "Dato real: [3020.] \n",
      "Prediccion: 3486.4766122667247\n",
      "Diferencia: [-466.47661227]\n",
      "\n",
      "\n",
      "**PRUEBA 9**\n",
      "Dato real: [3030.] \n",
      "Prediccion: 3912.4417060446262\n",
      "Diferencia: [-882.44170604]\n",
      "\n",
      "\n",
      "**PRUEBA 10**\n",
      "Dato real: [3040.] \n",
      "Prediccion: 4338.406799822527\n",
      "Diferencia: [-1298.40679982]\n",
      "\n",
      "\n",
      "**PRUEBA 11**\n",
      "Dato real: [3180.] \n",
      "Prediccion: 4764.371893600429\n",
      "Diferencia: [-1584.3718936]\n",
      "\n",
      "\n",
      "**PRUEBA 12**\n",
      "Dato real: [3257.] \n",
      "Prediccion: 5190.33698737833\n",
      "Diferencia: [-1933.33698738]\n",
      "\n",
      "\n",
      "**PRUEBA 13**\n",
      "Dato real: [3214.] \n",
      "Prediccion: 5616.302081156231\n",
      "Diferencia: [-2402.30208116]\n",
      "\n",
      "\n"
     ]
    }
   ],
   "source": [
    "# Aqui multiplico cada uno de los tetha[i] por x[i] en cada caso, esto es aplicar la formula. En este caso uso ciclos anidados.\n",
    "for i in range (0,cantidad):\n",
    "    for j in range (2):\n",
    "        predicciones[i] = predicciones[i] + tetha[j] * pruebax[i][j]\n",
    "  \n",
    "    #Aquí fuera del ciclo de j se muestra al usuario el valor real del precio y la prediccion  \n",
    "    print(\"**PRUEBA \"+str(i+1)+\"**\\nDato real: \"+str(pruebay[i])+\" \\nPrediccion: \"+str(predicciones[i])+\"\\nDiferencia: \"+str(pruebay[i]-predicciones[i])+\"\\n\\n\")"
   ]
  },
  {
   "cell_type": "code",
   "execution_count": 6,
   "metadata": {
    "scrolled": true
   },
   "outputs": [
    {
     "name": "stdout",
     "output_type": "stream",
     "text": [
      "Error cuadrático medio: 1342614.2049226074\n",
      "El error promedio es: 1158.7123046393385\n",
      "\n",
      "Por lo que vemos que nuestro modelo es bastante acertado.\n"
     ]
    }
   ],
   "source": [
    "# Procedemos a calcular el error cuadratico para evaluar nuestras predicciones\n",
    "\n",
    "# Se inicializan los valores en 0\n",
    "error_cuadratico = 0\n",
    "sumatoria = 0\n",
    "\n",
    "# Se lleva a cabo la sumatoria \n",
    "for i in range (cantidad):\n",
    "    sumatoria = sumatoria + (predicciones[i] - pruebay[i]) ** 2\n",
    "    \n",
    "error_cuadratico = (1/cantidad) * sumatoria\n",
    "\n",
    "print(\"Error cuadrático medio: \"+str(error_cuadratico[0]))\n",
    "\n",
    "# El error medio se calcula con la raiz cuadrada del error cuadrado...\n",
    "error_medio = np.sqrt(error_cuadratico)\n",
    "\n",
    "print(\"El error promedio es: \" + str(error_medio[0]) + \"\\n\")\n",
    "print(\"Por lo que vemos que nuestro modelo es bastante acertado.\")\n",
    "    \n",
    "\n",
    "\n"
   ]
  }
 ],
 "metadata": {
  "kernelspec": {
   "display_name": "Python 3",
   "language": "python",
   "name": "python3"
  },
  "language_info": {
   "codemirror_mode": {
    "name": "ipython",
    "version": 3
   },
   "file_extension": ".py",
   "mimetype": "text/x-python",
   "name": "python",
   "nbconvert_exporter": "python",
   "pygments_lexer": "ipython3",
   "version": "3.6.8"
  }
 },
 "nbformat": 4,
 "nbformat_minor": 2
}
